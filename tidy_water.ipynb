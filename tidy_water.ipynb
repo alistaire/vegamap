{
 "nbformat": 4,
 "nbformat_minor": 2,
 "metadata": {
  "language_info": {
   "name": "python",
   "codemirror_mode": {
    "name": "ipython",
    "version": 3
   },
   "version": "3.7.3-final"
  },
  "orig_nbformat": 2,
  "file_extension": ".py",
  "mimetype": "text/x-python",
  "name": "python",
  "npconvert_exporter": "python",
  "pygments_lexer": "ipython3",
  "version": 3,
  "kernelspec": {
   "name": "python37364bitbaseconda00c27618f138403babf25cef1ff79903",
   "display_name": "Python 3.7.3 64-bit ('base': conda)"
  }
 },
 "cells": [
  {
   "cell_type": "code",
   "execution_count": 2,
   "metadata": {},
   "outputs": [],
   "source": [
    "import json\n",
    "import pandas as pd"
   ]
  },
  {
   "cell_type": "code",
   "execution_count": 3,
   "metadata": {},
   "outputs": [],
   "source": [
    "with open('data/sdg_water.json') as json_file:\n",
    "    sdg_data = json.load(json_file)"
   ]
  },
  {
   "cell_type": "code",
   "execution_count": 5,
   "metadata": {},
   "outputs": [],
   "source": [
    "tidy_sdg = pd.DataFrame(columns=['ID', 'Water', 'Year', 'Extent'])"
   ]
  },
  {
   "cell_type": "code",
   "execution_count": null,
   "metadata": {},
   "outputs": [],
   "source": []
  },
  {
   "cell_type": "code",
   "execution_count": 14,
   "metadata": {},
   "outputs": [
    {
     "data": {
      "text/plain": "dict_keys(['1984', '1985', '1986', '1987', '1988', '1989', '1990', '1991', '1992', '1993', '1994', '1995', '1996', '1997', '1998', '1999', '2000', '2001', '2002', '2003', '2004', '2005', '2006', '2007', '2008', '2009', '2010', '2011', '2012', '2013', '2014', '2015', '2016', '2017', '2018', 'HYBAS_ID', 'Water'])"
     },
     "execution_count": 14,
     "metadata": {},
     "output_type": "execute_result"
    }
   ],
   "source": [
    "sdg_data[\"datasets\"]['data-cb3798daafaf4ba5eb260d63daa71bfe'][0].keys()"
   ]
  },
  {
   "cell_type": "code",
   "execution_count": 17,
   "metadata": {},
   "outputs": [
    {
     "name": "stdout",
     "output_type": "stream",
     "text": "HYBAS_ID      Water  Year  Extent\n0      2070048790   Seasonal  1984  2.7999\n1      2070048790   Seasonal  1985  5.0319\n2      2070048790   Seasonal  1986  3.3516\n3      2070048790   Seasonal  1987  4.1220\n4      2070048790   Seasonal  1988  1.9971\n...           ...        ...   ...     ...\n13960  2070394580  Permanent  2014  1.4031\n13961  2070394580  Permanent  2015  1.4022\n13962  2070394580  Permanent  2016  1.4409\n13963  2070394580  Permanent  2017  1.5201\n13964  2070394580  Permanent  2018  1.4193\n\n[13965 rows x 4 columns]\n"
    }
   ],
   "source": [
    "temprec = []\n",
    "for hb_rec in sdg_data[\"datasets\"]['data-cb3798daafaf4ba5eb260d63daa71bfe']:\n",
    "    id = hb_rec['HYBAS_ID'] \n",
    "    water = hb_rec['Water']\n",
    "    for k, v in hb_rec.items():\n",
    "        if k not in ['HYBAS_ID', 'Water']:\n",
    "            temprec.append([id, water, k, v ])\n",
    "tidy_sdg = pd.DataFrame(temprec, columns=['HYBAS_ID', 'Water', 'Year', 'Extent'])\n",
    "print(tidy_sdg)"
   ]
  },
  {
   "cell_type": "code",
   "execution_count": 21,
   "metadata": {},
   "outputs": [],
   "source": [
    "tidy_sdg.to_csv('data/sdg_water.csv', index=False)"
   ]
  },
  {
   "cell_type": "code",
   "execution_count": null,
   "metadata": {},
   "outputs": [],
   "source": []
  }
 ]
}